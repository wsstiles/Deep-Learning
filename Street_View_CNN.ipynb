{
  "nbformat": 4,
  "nbformat_minor": 0,
  "metadata": {
    "accelerator": "GPU",
    "colab": {
      "name": "Street_View_CNN.ipynb",
      "provenance": [],
      "collapsed_sections": []
    },
    "kernelspec": {
      "display_name": "Python 3",
      "language": "python",
      "name": "python3"
    },
    "language_info": {
      "codemirror_mode": {
        "name": "ipython",
        "version": 3
      },
      "file_extension": ".py",
      "mimetype": "text/x-python",
      "name": "python",
      "nbconvert_exporter": "python",
      "pygments_lexer": "ipython3",
      "version": "3.8.8"
    }
  },
  "cells": [
    {
      "cell_type": "markdown",
      "metadata": {
        "id": "Q91KqmCRu64D"
      },
      "source": [
        "# **Convolutional Neural Networks: Street View Housing Number Digit Recognition**\n",
        "\n",
        "Welcome to the project on classification using Convolutional Neural Networks. We will continue to work with the Street View Housing Numbers (SVHN) image dataset for this project.\n",
        "\n",
        "--------------\n",
        "### **Context:** \n",
        "--------------\n",
        "\n",
        "One of the most interesting tasks in deep learning is to recognize objects in natural scenes. The ability to process visual information using machine learning algorithms can be very useful as demonstrated in various applications.\n",
        "\n",
        "The SVHN dataset contains over 600,000 labeled digits cropped from street-level photos. It is one of the most popular image recognition datasets. It has been used in neural networks created by Google to improve map quality by automatically transcribing the address numbers from a patch of pixels. The transcribed number with a known street address helps pinpoint the location of the building it represents. \n",
        "\n",
        "----------------\n",
        "### **Objective:**\n",
        "----------------\n",
        "\n",
        "Build a CNN model that can identify the digits in the images.\n",
        "\n",
        "-------------\n",
        "### **Dataset**\n",
        "-------------\n",
        "Here we will use a subset of the original data to save some computation time. The dataset is provided as a .h5 file. The basic preprocessing steps have been done."
      ]
    },
    {
      "cell_type": "markdown",
      "metadata": {
        "id": "8z2Z7-OAs8QG"
      },
      "source": [
        "## **Mount the drive**\n",
        "Let us start by mounting the drive and importing the necessary libraries."
      ]
    },
    {
      "cell_type": "code",
      "metadata": {
        "colab": {
          "base_uri": "https://localhost:8080/"
        },
        "id": "03lDyQUuef7z",
        "outputId": "e59839c8-96c1-47c3-d4bb-3267893bc3b4"
      },
      "source": [
        "from google.colab import drive\n",
        "drive.mount('/content/drive')"
      ],
      "execution_count": null,
      "outputs": [
        {
          "output_type": "stream",
          "name": "stdout",
          "text": [
            "Mounted at /content/drive\n"
          ]
        }
      ]
    },
    {
      "cell_type": "markdown",
      "metadata": {
        "id": "C8U3DUa3eNsT"
      },
      "source": [
        "## **Importing libraries**"
      ]
    },
    {
      "cell_type": "code",
      "metadata": {
        "id": "-dVzeuF3eQx1"
      },
      "source": [
        "import numpy as np\n",
        "import pandas as pd\n",
        "import matplotlib.pyplot as plt\n",
        "import seaborn as sns\n",
        "\n",
        "from sklearn.model_selection import train_test_split\n",
        "from sklearn.preprocessing import MinMaxScaler\n",
        "\n",
        "import tensorflow as tf\n",
        "from tensorflow.keras.models import Sequential\n",
        "from tensorflow.keras.layers import Dense, Conv2D, MaxPool2D, BatchNormalization, Dropout, Flatten, LeakyReLU\n",
        "from tensorflow.keras.utils import to_categorical"
      ],
      "execution_count": null,
      "outputs": []
    },
    {
      "cell_type": "markdown",
      "metadata": {
        "id": "ucnevGLoyKf_"
      },
      "source": [
        "Let us check for the version of TensorFlow."
      ]
    },
    {
      "cell_type": "code",
      "metadata": {
        "colab": {
          "base_uri": "https://localhost:8080/"
        },
        "id": "W5as47YxyJVk",
        "outputId": "cdb1370a-a796-443f-ef69-eea5526806e1"
      },
      "source": [
        "print(tf.__version__)"
      ],
      "execution_count": null,
      "outputs": [
        {
          "output_type": "stream",
          "name": "stdout",
          "text": [
            "2.6.0\n"
          ]
        }
      ]
    },
    {
      "cell_type": "markdown",
      "metadata": {
        "id": "8lsux2ZwyTTR"
      },
      "source": [
        "## **Load the dataset**\n",
        "- Let us now load the dataset that is available as a .h5 file.\n",
        "- Split the data into train and the test dataset"
      ]
    },
    {
      "cell_type": "code",
      "metadata": {
        "id": "BApX9qgNsqV0",
        "scrolled": true
      },
      "source": [
        "import h5py\n",
        "\n",
        "# Open the file as read only\n",
        "# User can make changes in the path as required\n",
        "h5f = h5py.File('/content/drive/MyDrive/SVHN_single_grey1.h5', 'r')\n",
        "\n",
        "# Load the training and the test set\n",
        "X_train = h5f['X_train'][:]\n",
        "y_train = h5f['y_train'][:]\n",
        "X_test = h5f['X_test'][:]\n",
        "y_test = h5f['y_test'][:]\n",
        "\n",
        "\n",
        "# Close this file\n",
        "h5f.close()"
      ],
      "execution_count": null,
      "outputs": []
    },
    {
      "cell_type": "markdown",
      "metadata": {
        "id": "hVe0CYpUgj7w"
      },
      "source": [
        "Let's check the number of images in the training and testing data."
      ]
    },
    {
      "cell_type": "code",
      "metadata": {
        "colab": {
          "base_uri": "https://localhost:8080/"
        },
        "id": "y3lwKpOefkpA",
        "outputId": "ee26c85c-cd06-4bee-bd79-cef6b8d85962"
      },
      "source": [
        "len(X_train), len(X_test)"
      ],
      "execution_count": null,
      "outputs": [
        {
          "output_type": "execute_result",
          "data": {
            "text/plain": [
              "(42000, 18000)"
            ]
          },
          "metadata": {},
          "execution_count": 5
        }
      ]
    },
    {
      "cell_type": "markdown",
      "metadata": {
        "id": "akTUOfLlgwoM"
      },
      "source": [
        "**Observations**\n",
        "- There are 42,000 images in the training data and 18,000 images in the testing data. "
      ]
    },
    {
      "cell_type": "markdown",
      "metadata": {
        "id": "kxODV6HKykuc"
      },
      "source": [
        "## **Visualizing images**\n",
        "- Use X_train to visualize the first 10 images\n",
        "- Use Y_train to print the first 10 labels"
      ]
    },
    {
      "cell_type": "markdown",
      "metadata": {
        "id": "Rn5IZYv-e2TC"
      },
      "source": [
        "#### **Visualize the first 10 images from the training data**"
      ]
    },
    {
      "cell_type": "code",
      "metadata": {
        "colab": {
          "base_uri": "https://localhost:8080/",
          "height": 95
        },
        "id": "Bvsc8ytHsqWD",
        "outputId": "f5bbe3df-bb23-4b1c-d2bd-8f0dfcaf1303"
      },
      "source": [
        "# Visualizing the first 10 images in the dataset and their labels\n",
        "plt.figure(figsize=(10, 1))\n",
        "\n",
        "for i in range(10):\n",
        "    plt.subplot(1, 10, i+1)\n",
        "    plt.imshow(X_train[i], cmap=\"gray\")\n",
        "    plt.axis('off')\n",
        "\n",
        "plt.show()\n",
        "print('label for each of the above image: %s' % (y_train[0:10]))"
      ],
      "execution_count": null,
      "outputs": [
        {
          "output_type": "display_data",
          "data": {
            "image/png": "[encoded data removed]",
            "text/plain": [
              "<Figure size 720x72 with 10 Axes>"
            ]
          },
          "metadata": {
            "needs_background": "light"
          }
        },
        {
          "output_type": "stream",
          "name": "stdout",
          "text": [
            "label for each of the above image: [2 6 7 4 4 0 3 0 7 3]\n"
          ]
        }
      ]
    },
    {
      "cell_type": "markdown",
      "metadata": {
        "id": "kzoyeXHOy80N"
      },
      "source": [
        "## **Data Preparation**\n",
        "\n",
        "- Print the first image in the train image and figure out the shape of the images\n",
        "- Reshape the train and the test dataset to make them fit the first convolutional operation that we will create later. Figure out the required shape\n",
        "- Normalize the train and the test dataset by dividing by 255\n",
        "- Print the new shapes of the train and the test set\n",
        "- One-hot encode the target variable"
      ]
    },
    {
      "cell_type": "code",
      "metadata": {
        "colab": {
          "base_uri": "https://localhost:8080/"
        },
        "id": "NqndzQXng9rL",
        "outputId": "97d60575-33ed-4c0c-b14b-36c127a989c0"
      },
      "source": [
        "# Shape of the images and the first image\n",
        "\n",
        "print(\"Shape:\", X_train[0].shape)\n",
        "print()\n",
        "print(\"First image:\\n\", X_train[0])"
      ],
      "execution_count": null,
      "outputs": [
        {
          "output_type": "stream",
          "name": "stdout",
          "text": [
            "Shape: (32, 32)\n",
            "\n",
            "First image:\n",
            " [[ 33.0704  30.2601  26.852  ...  71.4471  58.2204  42.9939]\n",
            " [ 25.2283  25.5533  29.9765 ... 113.0209 103.3639  84.2949]\n",
            " [ 26.2775  22.6137  40.4763 ... 113.3028 121.775  115.4228]\n",
            " ...\n",
            " [ 28.5502  36.212   45.0801 ...  24.1359  25.0927  26.0603]\n",
            " [ 38.4352  26.4733  23.2717 ...  28.1094  29.4683  30.0661]\n",
            " [ 50.2984  26.0773  24.0389 ...  49.6682  50.853   53.0377]]\n"
          ]
        }
      ]
    },
    {
      "cell_type": "code",
      "metadata": {
        "id": "D9YPwf9ysqWU"
      },
      "source": [
        "# Reshaping the dataset to flatten them.\n",
        "# Remember that we always have to give a 4D array as input to CNNs\n",
        "\n",
        "X_train = X_train.reshape(X_train.shape[0], 32,32,1)\n",
        "X_test = X_test.reshape(X_test.shape[0], 32,32,1)"
      ],
      "execution_count": null,
      "outputs": []
    },
    {
      "cell_type": "code",
      "metadata": {
        "id": "q_yUUTp_mUzB"
      },
      "source": [
        "# Normalize inputs from 0-255 to 0-1\n",
        "\n",
        "X_train = X_train / 255.0\n",
        "X_test = X_test / 255.0"
      ],
      "execution_count": null,
      "outputs": []
    },
    {
      "cell_type": "code",
      "metadata": {
        "colab": {
          "base_uri": "https://localhost:8080/"
        },
        "id": "t7FSqOpamWkH",
        "outputId": "2960595b-753a-4c89-fc76-9b1b33d0cc61"
      },
      "source": [
        "# New shape \n",
        "\n",
        "print('Training set:', X_train.shape, y_train.shape)\n",
        "print('Test set:', X_test.shape, y_test.shape)"
      ],
      "execution_count": null,
      "outputs": [
        {
          "output_type": "stream",
          "name": "stdout",
          "text": [
            "Training set: (42000, 32, 32, 1) (42000,)\n",
            "Test set: (18000, 32, 32, 1) (18000,)\n"
          ]
        }
      ]
    },
    {
      "cell_type": "markdown",
      "metadata": {
        "id": "YP92jacue2TE"
      },
      "source": [
        "#### **One-hot encoding the labels in the target variable y_train and y_test**"
      ]
    },
    {
      "cell_type": "code",
      "metadata": {
        "colab": {
          "base_uri": "https://localhost:8080/"
        },
        "id": "zL0lYER4sqWw",
        "outputId": "49d6cc43-a588-4e1f-bc48-474370454381"
      },
      "source": [
        "# One-hot encoding the output\n",
        "y_train = tf.keras.utils.to_categorical(y_train)\n",
        "y_test = tf.keras.utils.to_categorical(y_test)\n",
        "\n",
        "# Print the testing data labels\n",
        "y_test"
      ],
      "execution_count": null,
      "outputs": [
        {
          "output_type": "execute_result",
          "data": {
            "text/plain": [
              "array([[0., 1., 0., ..., 0., 0., 0.],\n",
              "       [0., 0., 0., ..., 1., 0., 0.],\n",
              "       [0., 0., 1., ..., 0., 0., 0.],\n",
              "       ...,\n",
              "       [0., 0., 0., ..., 1., 0., 0.],\n",
              "       [0., 0., 0., ..., 0., 0., 1.],\n",
              "       [0., 0., 1., ..., 0., 0., 0.]], dtype=float32)"
            ]
          },
          "metadata": {},
          "execution_count": 11
        }
      ]
    },
    {
      "cell_type": "markdown",
      "metadata": {
        "id": "ViqPOTquCF76"
      },
      "source": [
        "- Notice that each entry of y_test is a one-hot encoded vector instead of a single label."
      ]
    },
    {
      "cell_type": "markdown",
      "metadata": {
        "id": "yH-gVrzuByNA"
      },
      "source": [
        "## **Model Building**\n",
        "\n",
        "Now, we have done data preprocessing, let's build a CNN model."
      ]
    },
    {
      "cell_type": "code",
      "metadata": {
        "id": "eaGr-3Noe2TF"
      },
      "source": [
        "#Fixing the seed for random number generators\n",
        "np.random.seed(42)\n",
        "import random\n",
        "random.seed(42)\n",
        "tf.random.set_seed(42)"
      ],
      "execution_count": null,
      "outputs": []
    },
    {
      "cell_type": "markdown",
      "metadata": {
        "id": "UJDUoaEj1d6e"
      },
      "source": [
        "### **Model Architecture**\n",
        "- Write a function that returns a sequential model with the following architecture\n",
        " - First Convolutional layer with **16 filters and kernel size of 3x3**. Use the **'same' padding** and provide an **apt input shape**\n",
        " - Add a **LeakyRelu layer** with the **slope equal to 0.1**\n",
        " - Second Convolutional layer with **32 filters and kernel size of 3x3 with 'same' padding**\n",
        " - Another **LeakyRelu** with the **slope equal to 0.1**\n",
        " - A **max-pooling layer** with a **pool size of 2x2**\n",
        " - **Flatten** the output from the previous layer\n",
        " - Add a **dense layer with 32 nodes**\n",
        " - Add a **LeakyRelu layer with slope equal to 0.1**\n",
        " - Add the final **output layer with nodes equal to the number of classes** and **softmax activation**\n",
        " - Compile the model with the **categorical_crossentropy loss, adam optimizers (learning_rate = 0.001), and accuracy metric**. Do not fit the model here, just return the compiled model\n",
        "- Call the function and store the model in a new variable\n",
        "- Print the summary of the model.\n",
        "- Fit the model on the train data with a **validation split of 0.2, batch size = 32, verbose = 1, and 20 epochs**. Store the model building history to use later for visualization."
      ]
    },
    {
      "cell_type": "markdown",
      "metadata": {
        "id": "Uw8pZcNwe2TG"
      },
      "source": [
        "#### **Building and training a CNN model as per the architecture mentioned above**"
      ]
    },
    {
      "cell_type": "code",
      "metadata": {
        "id": "Cmi81Gr5sqW-"
      },
      "source": [
        "# Importing losses and optimizers modules\n",
        "from tensorflow.keras import losses\n",
        "from tensorflow.keras import optimizers\n",
        "\n",
        "# Define the function\n",
        "def cnn_model_1():\n",
        "    model = Sequential() \n",
        "    #Add layers as per the architecture mentioned above in the same sequence:\n",
        "\n",
        "    # First convolutional layer\n",
        "    model.add(Conv2D(filters=16, kernel_size=(3, 3), padding=\"same\", input_shape=(32, 32, 1)))\n",
        "    # Adding leaky relu activation function with negative slope of 0.1\n",
        "    model.add(LeakyReLU(0.1))\n",
        "    # Second convolutional layer\n",
        "    model.add(Conv2D(filters=32, kernel_size=(3, 3), padding=\"same\"))\n",
        "    # Adding another leaky relu activation function with negative slope of 0.1\n",
        "    model.add(LeakyReLU(0.1))\n",
        "    # Adding max pooling to reduce the size of output of second conv layer\n",
        "    model.add(MaxPool2D(pool_size=(2, 2)))\n",
        "    # Flattening the 3-D output of the conv layer after max pooling to make it \n",
        "    # ready for creating dense connections\n",
        "    model.add(Flatten())\n",
        "    # Adding a fully connected dense layer with 32 neurons    \n",
        "    model.add(Dense(32))\n",
        "    # Adding another leaky relu activation function with negative slope of 0.1\n",
        "    model.add(LeakyReLU(0.1))\n",
        "    # Adding the output layer with 10 neurons and activation functions as softmax\n",
        "    # since this is a multi-class classification problem\n",
        "    model.add(Dense(10, activation='softmax'))\n",
        "\n",
        "    # Declare an adam optimizer with learning rate of 0.001 \n",
        "    adam = optimizers.Adam(learning_rate=0.001)\n",
        "    \n",
        "    # Compile the model\n",
        "    model.compile(optimizer=adam, loss='categorical_crossentropy', metrics=['accuracy'])\n",
        "    \n",
        "    return model"
      ],
      "execution_count": null,
      "outputs": []
    },
    {
      "cell_type": "code",
      "metadata": {
        "id": "bGCUI_xsImnH"
      },
      "source": [
        "# Build the model\n",
        "model_1 = cnn_model_1()"
      ],
      "execution_count": null,
      "outputs": []
    },
    {
      "cell_type": "code",
      "metadata": {
        "id": "ckJsLdmdQadZ",
        "colab": {
          "base_uri": "https://localhost:8080/"
        },
        "outputId": "f37a9441-24c5-4fb6-8ae8-360905b85de8"
      },
      "source": [
        "# Print the model summary\n",
        "model_1.summary()"
      ],
      "execution_count": null,
      "outputs": [
        {
          "output_type": "stream",
          "name": "stdout",
          "text": [
            "Model: \"sequential_1\"\n",
            "_________________________________________________________________\n",
            "Layer (type)                 Output Shape              Param #   \n",
            "=================================================================\n",
            "conv2d_2 (Conv2D)            (None, 32, 32, 16)        160       \n",
            "_________________________________________________________________\n",
            "leaky_re_lu_2 (LeakyReLU)    (None, 32, 32, 16)        0         \n",
            "_________________________________________________________________\n",
            "conv2d_3 (Conv2D)            (None, 32, 32, 32)        4640      \n",
            "_________________________________________________________________\n",
            "leaky_re_lu_3 (LeakyReLU)    (None, 32, 32, 32)        0         \n",
            "_________________________________________________________________\n",
            "max_pooling2d (MaxPooling2D) (None, 16, 16, 32)        0         \n",
            "_________________________________________________________________\n",
            "flatten (Flatten)            (None, 8192)              0         \n",
            "_________________________________________________________________\n",
            "dense (Dense)                (None, 32)                262176    \n",
            "_________________________________________________________________\n",
            "leaky_re_lu_4 (LeakyReLU)    (None, 32)                0         \n",
            "_________________________________________________________________\n",
            "dense_1 (Dense)              (None, 10)                330       \n",
            "=================================================================\n",
            "Total params: 267,306\n",
            "Trainable params: 267,306\n",
            "Non-trainable params: 0\n",
            "_________________________________________________________________\n"
          ]
        }
      ]
    },
    {
      "cell_type": "code",
      "metadata": {
        "id": "3Fy3Dif_zcCk",
        "colab": {
          "base_uri": "https://localhost:8080/"
        },
        "outputId": "8df187a2-502d-4e7b-db1f-fe0c9e241fdd"
      },
      "source": [
        "# Fit the model\n",
        "history_model_1 = model_1.fit(X_train,\n",
        "                              y_train,\n",
        "                              epochs=20,\n",
        "                              validation_split=0.2,\n",
        "                              batch_size=32,\n",
        "                              verbose=1)"
      ],
      "execution_count": null,
      "outputs": [
        {
          "output_type": "stream",
          "name": "stdout",
          "text": [
            "Epoch 1/20\n",
            "1050/1050 [==============================] - 41s 9ms/step - loss: 1.1355 - accuracy: 0.6273 - val_loss: 0.6829 - val_accuracy: 0.8018\n",
            "Epoch 2/20\n",
            "1050/1050 [==============================] - 9s 9ms/step - loss: 0.5769 - accuracy: 0.8331 - val_loss: 0.5619 - val_accuracy: 0.8382\n",
            "Epoch 3/20\n",
            "1050/1050 [==============================] - 10s 9ms/step - loss: 0.4788 - accuracy: 0.8596 - val_loss: 0.5315 - val_accuracy: 0.8502\n",
            "Epoch 4/20\n",
            "1050/1050 [==============================] - 9s 9ms/step - loss: 0.4116 - accuracy: 0.8801 - val_loss: 0.4663 - val_accuracy: 0.8669\n",
            "Epoch 5/20\n",
            "1050/1050 [==============================] - 9s 9ms/step - loss: 0.3644 - accuracy: 0.8919 - val_loss: 0.4742 - val_accuracy: 0.8680\n",
            "Epoch 6/20\n",
            "1050/1050 [==============================] - 9s 9ms/step - loss: 0.3200 - accuracy: 0.9049 - val_loss: 0.4681 - val_accuracy: 0.8695\n",
            "Epoch 7/20\n",
            "1050/1050 [==============================] - 9s 9ms/step - loss: 0.2879 - accuracy: 0.9146 - val_loss: 0.5148 - val_accuracy: 0.8561\n",
            "Epoch 8/20\n",
            "1050/1050 [==============================] - 10s 9ms/step - loss: 0.2541 - accuracy: 0.9239 - val_loss: 0.4760 - val_accuracy: 0.8730\n",
            "Epoch 9/20\n",
            "1050/1050 [==============================] - 9s 9ms/step - loss: 0.2290 - accuracy: 0.9294 - val_loss: 0.4813 - val_accuracy: 0.8749\n",
            "Epoch 10/20\n",
            "1050/1050 [==============================] - 10s 9ms/step - loss: 0.2026 - accuracy: 0.9370 - val_loss: 0.5204 - val_accuracy: 0.8720\n",
            "Epoch 11/20\n",
            "1050/1050 [==============================] - 9s 9ms/step - loss: 0.1906 - accuracy: 0.9400 - val_loss: 0.5521 - val_accuracy: 0.8694\n",
            "Epoch 12/20\n",
            "1050/1050 [==============================] - 10s 9ms/step - loss: 0.1661 - accuracy: 0.9482 - val_loss: 0.5557 - val_accuracy: 0.8721\n",
            "Epoch 13/20\n",
            "1050/1050 [==============================] - 10s 9ms/step - loss: 0.1450 - accuracy: 0.9532 - val_loss: 0.6205 - val_accuracy: 0.8650\n",
            "Epoch 14/20\n",
            "1050/1050 [==============================] - 9s 9ms/step - loss: 0.1355 - accuracy: 0.9565 - val_loss: 0.6377 - val_accuracy: 0.8663\n",
            "Epoch 15/20\n",
            "1050/1050 [==============================] - 9s 9ms/step - loss: 0.1211 - accuracy: 0.9617 - val_loss: 0.6643 - val_accuracy: 0.8665\n",
            "Epoch 16/20\n",
            "1050/1050 [==============================] - 10s 9ms/step - loss: 0.1069 - accuracy: 0.9661 - val_loss: 0.6908 - val_accuracy: 0.8632\n",
            "Epoch 17/20\n",
            "1050/1050 [==============================] - 10s 9ms/step - loss: 0.1029 - accuracy: 0.9663 - val_loss: 0.7382 - val_accuracy: 0.8586\n",
            "Epoch 18/20\n",
            "1050/1050 [==============================] - 10s 9ms/step - loss: 0.0899 - accuracy: 0.9700 - val_loss: 0.7611 - val_accuracy: 0.8668\n",
            "Epoch 19/20\n",
            "1050/1050 [==============================] - 10s 9ms/step - loss: 0.0786 - accuracy: 0.9740 - val_loss: 0.8002 - val_accuracy: 0.8615\n",
            "Epoch 20/20\n",
            "1050/1050 [==============================] - 9s 9ms/step - loss: 0.0834 - accuracy: 0.9717 - val_loss: 0.8272 - val_accuracy: 0.8587\n"
          ]
        }
      ]
    },
    {
      "cell_type": "markdown",
      "metadata": {
        "id": "tKOckG-KPyLg"
      },
      "source": [
        "### **Plotting the validation and training accuracies**"
      ]
    },
    {
      "cell_type": "code",
      "metadata": {
        "colab": {
          "base_uri": "https://localhost:8080/",
          "height": 497
        },
        "id": "lt77zgGMP4yw",
        "outputId": "ebd21e6a-e761-4c47-ec7b-bca97ce50900"
      },
      "source": [
        "# Plot the accuracies\n",
        "\n",
        "dict_hist = history_model_1.history\n",
        "list_ep = [i for i in range(1,21)]\n",
        "\n",
        "plt.figure(figsize = (8,8))\n",
        "plt.plot(list_ep,dict_hist['accuracy'],ls = '--', label = 'accuracy')\n",
        "plt.plot(list_ep,dict_hist['val_accuracy'],ls = '--', label = 'val_accuracy')\n",
        "plt.ylabel('Accuracy')\n",
        "plt.xlabel('Epochs')\n",
        "plt.legend()\n",
        "plt.show()"
      ],
      "execution_count": null,
      "outputs": [
        {
          "output_type": "display_data",
          "data": {
            "image/png": "[encoded data removed]",
            "text/plain": [
              "<Figure size 576x576 with 1 Axes>"
            ]
          },
          "metadata": {
            "needs_background": "light"
          }
        }
      ]
    },
    {
      "cell_type": "markdown",
      "metadata": {
        "id": "pGBbQpLONX7k"
      },
      "source": [
        "**Observations:**\n",
        "- The model has performed poorly on the validation data. The validation data has become practically constant afer only 4 epochs.\n",
        "- Since the training accuracy is extremely high, the model is likely overfitting the training data."
      ]
    },
    {
      "cell_type": "markdown",
      "metadata": {
        "id": "z0qgLMBZm5-K"
      },
      "source": [
        "Let's build another model and see if we can get a better model with generalized performance.\n",
        "\n",
        "First, we need to clear the previous model's history from the keras backend. Also, let's fix the seed again after clearing the backend."
      ]
    },
    {
      "cell_type": "code",
      "metadata": {
        "id": "y98BpLxsok_H"
      },
      "source": [
        "# Clear the backend\n",
        "from tensorflow.keras import backend\n",
        "backend.clear_session()"
      ],
      "execution_count": null,
      "outputs": []
    },
    {
      "cell_type": "code",
      "metadata": {
        "id": "HbKi93HTolGW"
      },
      "source": [
        "# Fixing the seed for random number generators for future replication\n",
        "np.random.seed(42)\n",
        "import random\n",
        "random.seed(42)\n",
        "tf.random.set_seed(42)"
      ],
      "execution_count": null,
      "outputs": []
    },
    {
      "cell_type": "markdown",
      "metadata": {
        "id": "lT6o3TIKuCtk"
      },
      "source": [
        "### **Second Model Architecture**\n",
        "- Write a function that returns a sequential model with the following architecture\n",
        " - First Convolutional layer with **16 filters and kernel size of 3x3**. Use the **'same' padding** and provide an **apt input shape**\n",
        " - Add a **LeakyRelu layer** with the **slope equal to 0.1**\n",
        " - Second Convolutional layer with **32 filters and kernel size of 3x3 with 'same' padding**\n",
        " - Add **LeakyRelu** with the **slope equal to 0.1**\n",
        " - Add a **max-pooling layer** with a **pool size of 2x2**\n",
        " - Add a **BatchNormalization layer**\n",
        " - Third Convolutional layer with **32 filters and kernel size of 3x3 with 'same' padding**\n",
        " - Add a **LeakyRelu layer with slope equal to 0.1**\n",
        " - Fourth Convolutional layer **64 filters and kernel size of 3x3 with 'same' padding** \n",
        " - Add a **LeakyRelu layer with slope equal to 0.1**\n",
        " - Add a **max-pooling layer** with a **pool size of 2x2**\n",
        " - Add a **BatchNormalization layer**\n",
        " - **Flatten** the output from the previous layer\n",
        " - Add a **dense layer with 32 nodes**\n",
        " - Add a **LeakyRelu layer with slope equal to 0.1**\n",
        " - Add a **dropout layer with rate equal to 0.5**\n",
        " - Add the final **output layer with nodes equal to the number of classes** and **softmax activation**\n",
        " - Compile the model with the **categorical_crossentropy loss, adam optimizers (learning_rate = 0.001), and accuracy metric**. Do not fit the model here, just return the compiled model\n",
        "- Call the function and store the model in a new variable\n",
        "- Print the summary of the model.\n",
        "- Fit the model on the train data with a **validation split of 0.2, batch size = 128, verbose = 1, and 30 epochs**. Store the model building history to use later for visualization."
      ]
    },
    {
      "cell_type": "markdown",
      "metadata": {
        "id": "Sr-bwBT2e2TJ"
      },
      "source": [
        "#### **Building and traininig the second CNN model as per the architecture mentioned above**"
      ]
    },
    {
      "cell_type": "code",
      "metadata": {
        "id": "EEPYLFIPnSDP"
      },
      "source": [
        "#Define the function\n",
        "def cnn_model_2():\n",
        "    model = Sequential() \n",
        "    # Add layers as per the architecture mentioned above in the same sequence:\n",
        "    \n",
        "    # First convolutional layer\n",
        "    model.add(Conv2D(filters=16, kernel_size=(3, 3), padding=\"same\", input_shape=(32, 32, 1)))\n",
        "    # Adding leaky relu activation function with negative slope of 0.1\n",
        "    model.add(LeakyReLU(0.1))\n",
        "    # Second convolutional layer\n",
        "    model.add(Conv2D(filters=32, kernel_size=(3, 3), padding=\"same\"))\n",
        "    # Adding another leaky relu activation function with negative slope of 0.1\n",
        "    model.add(LeakyReLU(0.1))\n",
        "    # Adding max pooling to reduce the size of output of second conv layer\n",
        "    model.add(MaxPool2D(pool_size=(2, 2)))\n",
        "    # Adding a Batch normalization layer\n",
        "    model.add(BatchNormalization())\n",
        "    # Third convolutional layer\n",
        "    model.add(Conv2D(filters=32, kernel_size=(3, 3), padding=\"same\"))\n",
        "    # Adding leaky relu activation function with negative slope of 0.1\n",
        "    model.add(LeakyReLU(0.1))\n",
        "    # Fourth convolutional layer\n",
        "    model.add(Conv2D(filters=64, kernel_size=(3, 3), padding=\"same\"))\n",
        "    # Adding leaky relu activation function with negative slope of 0.1\n",
        "    model.add(LeakyReLU(0.1))\n",
        "    # Adding max pooling to reduce the size of output of second conv layer\n",
        "    model.add(MaxPool2D(pool_size=(2, 2)))\n",
        "    # Adding a Batch normalization layer\n",
        "    model.add(BatchNormalization())\n",
        "    # Flattening the 3-D output of the conv layer after max pooling to make it \n",
        "    # ready for creating dense connections\n",
        "    model.add(Flatten())\n",
        "    # Adding a fully connected dense layer with 32 neurons    \n",
        "    model.add(Dense(32))\n",
        "    # Adding another leaky relu activation function with negative slope of 0.1\n",
        "    model.add(LeakyReLU(0.1))\n",
        "    # We will be switching 50% of neurons randomly at each iteration to avoid overfitting\n",
        "    model.add(Dropout(0.5))\n",
        "    # Adding the output layer with 10 neurons and activation functions as softmax\n",
        "    # since this is a multi-class classification problem\n",
        "    model.add(Dense(10, activation='softmax'))\n",
        "\n",
        "    # Declare adam optimizer with learning rate of 0.001 \n",
        "    adam = optimizers.Adam(learning_rate=0.001)\n",
        "    \n",
        "    # Compile the model\n",
        "    model.compile(optimizer=adam, loss='categorical_crossentropy', metrics=['accuracy'])\n",
        "    \n",
        "    return model"
      ],
      "execution_count": null,
      "outputs": []
    },
    {
      "cell_type": "code",
      "metadata": {
        "id": "AKjDY4plnSFl"
      },
      "source": [
        "# Build the model\n",
        "model_2 = cnn_model_2()"
      ],
      "execution_count": null,
      "outputs": []
    },
    {
      "cell_type": "code",
      "metadata": {
        "id": "gz_6SVrU2swZ",
        "colab": {
          "base_uri": "https://localhost:8080/"
        },
        "outputId": "aa0d2b64-26c9-4821-a4c7-89000336dc94"
      },
      "source": [
        "# Print the summary\n",
        "model_2.summary()"
      ],
      "execution_count": null,
      "outputs": [
        {
          "output_type": "stream",
          "name": "stdout",
          "text": [
            "Model: \"sequential\"\n",
            "_________________________________________________________________\n",
            "Layer (type)                 Output Shape              Param #   \n",
            "=================================================================\n",
            "conv2d (Conv2D)              (None, 32, 32, 16)        160       \n",
            "_________________________________________________________________\n",
            "leaky_re_lu (LeakyReLU)      (None, 32, 32, 16)        0         \n",
            "_________________________________________________________________\n",
            "conv2d_1 (Conv2D)            (None, 32, 32, 32)        4640      \n",
            "_________________________________________________________________\n",
            "leaky_re_lu_1 (LeakyReLU)    (None, 32, 32, 32)        0         \n",
            "_________________________________________________________________\n",
            "max_pooling2d (MaxPooling2D) (None, 16, 16, 32)        0         \n",
            "_________________________________________________________________\n",
            "batch_normalization (BatchNo (None, 16, 16, 32)        128       \n",
            "_________________________________________________________________\n",
            "conv2d_2 (Conv2D)            (None, 16, 16, 32)        9248      \n",
            "_________________________________________________________________\n",
            "leaky_re_lu_2 (LeakyReLU)    (None, 16, 16, 32)        0         \n",
            "_________________________________________________________________\n",
            "conv2d_3 (Conv2D)            (None, 16, 16, 64)        18496     \n",
            "_________________________________________________________________\n",
            "leaky_re_lu_3 (LeakyReLU)    (None, 16, 16, 64)        0         \n",
            "_________________________________________________________________\n",
            "max_pooling2d_1 (MaxPooling2 (None, 8, 8, 64)          0         \n",
            "_________________________________________________________________\n",
            "batch_normalization_1 (Batch (None, 8, 8, 64)          256       \n",
            "_________________________________________________________________\n",
            "flatten (Flatten)            (None, 4096)              0         \n",
            "_________________________________________________________________\n",
            "dense (Dense)                (None, 32)                131104    \n",
            "_________________________________________________________________\n",
            "leaky_re_lu_4 (LeakyReLU)    (None, 32)                0         \n",
            "_________________________________________________________________\n",
            "dropout (Dropout)            (None, 32)                0         \n",
            "_________________________________________________________________\n",
            "dense_1 (Dense)              (None, 10)                330       \n",
            "=================================================================\n",
            "Total params: 164,362\n",
            "Trainable params: 164,170\n",
            "Non-trainable params: 192\n",
            "_________________________________________________________________\n"
          ]
        }
      ]
    },
    {
      "cell_type": "code",
      "metadata": {
        "id": "IQ0Sc4R-y-uu",
        "colab": {
          "base_uri": "https://localhost:8080/"
        },
        "outputId": "d486d4f4-765b-4ba8-a5e1-62555e28b7f5"
      },
      "source": [
        "# Fit the model\n",
        "history_model_2 = model_2.fit(X_train,\n",
        "                              y_train,\n",
        "                              epochs=30,\n",
        "                              validation_split=0.2,\n",
        "                              batch_size=128,\n",
        "                              verbose=1)"
      ],
      "execution_count": null,
      "outputs": [
        {
          "output_type": "stream",
          "name": "stdout",
          "text": [
            "Epoch 1/30\n",
            "263/263 [==============================] - 7s 22ms/step - loss: 1.4622 - accuracy: 0.5025 - val_loss: 2.7942 - val_accuracy: 0.2100\n",
            "Epoch 2/30\n",
            "263/263 [==============================] - 5s 20ms/step - loss: 0.6979 - accuracy: 0.7842 - val_loss: 0.5575 - val_accuracy: 0.8323\n",
            "Epoch 3/30\n",
            "263/263 [==============================] - 5s 20ms/step - loss: 0.5593 - accuracy: 0.8297 - val_loss: 0.4990 - val_accuracy: 0.8581\n",
            "Epoch 4/30\n",
            "263/263 [==============================] - 5s 20ms/step - loss: 0.5023 - accuracy: 0.8465 - val_loss: 0.4825 - val_accuracy: 0.8586\n",
            "Epoch 5/30\n",
            "263/263 [==============================] - 5s 20ms/step - loss: 0.4563 - accuracy: 0.8613 - val_loss: 0.4731 - val_accuracy: 0.8624\n",
            "Epoch 6/30\n",
            "263/263 [==============================] - 5s 21ms/step - loss: 0.4196 - accuracy: 0.8710 - val_loss: 0.4478 - val_accuracy: 0.8810\n",
            "Epoch 7/30\n",
            "263/263 [==============================] - 5s 21ms/step - loss: 0.3912 - accuracy: 0.8813 - val_loss: 0.4875 - val_accuracy: 0.8629\n",
            "Epoch 8/30\n",
            "263/263 [==============================] - 5s 21ms/step - loss: 0.3596 - accuracy: 0.8881 - val_loss: 0.4603 - val_accuracy: 0.8737\n",
            "Epoch 9/30\n",
            "263/263 [==============================] - 5s 21ms/step - loss: 0.3350 - accuracy: 0.8943 - val_loss: 0.3660 - val_accuracy: 0.8957\n",
            "Epoch 10/30\n",
            "263/263 [==============================] - 5s 21ms/step - loss: 0.3218 - accuracy: 0.8998 - val_loss: 0.3639 - val_accuracy: 0.8968\n",
            "Epoch 11/30\n",
            "263/263 [==============================] - 5s 21ms/step - loss: 0.3048 - accuracy: 0.9025 - val_loss: 0.3701 - val_accuracy: 0.9039\n",
            "Epoch 12/30\n",
            "263/263 [==============================] - 5s 21ms/step - loss: 0.2861 - accuracy: 0.9088 - val_loss: 0.4688 - val_accuracy: 0.8869\n",
            "Epoch 13/30\n",
            "263/263 [==============================] - 5s 21ms/step - loss: 0.2752 - accuracy: 0.9125 - val_loss: 0.4194 - val_accuracy: 0.8969\n",
            "Epoch 14/30\n",
            "263/263 [==============================] - 5s 21ms/step - loss: 0.2682 - accuracy: 0.9170 - val_loss: 0.3743 - val_accuracy: 0.9083\n",
            "Epoch 15/30\n",
            "263/263 [==============================] - 6s 21ms/step - loss: 0.2517 - accuracy: 0.9186 - val_loss: 0.4107 - val_accuracy: 0.9040\n",
            "Epoch 16/30\n",
            "263/263 [==============================] - 5s 21ms/step - loss: 0.2425 - accuracy: 0.9231 - val_loss: 0.4372 - val_accuracy: 0.9008\n",
            "Epoch 17/30\n",
            "263/263 [==============================] - 5s 21ms/step - loss: 0.2348 - accuracy: 0.9234 - val_loss: 0.4279 - val_accuracy: 0.9045\n",
            "Epoch 18/30\n",
            "263/263 [==============================] - 5s 20ms/step - loss: 0.2205 - accuracy: 0.9292 - val_loss: 0.3915 - val_accuracy: 0.9032\n",
            "Epoch 19/30\n",
            "263/263 [==============================] - 5s 20ms/step - loss: 0.2186 - accuracy: 0.9296 - val_loss: 0.4137 - val_accuracy: 0.9013\n",
            "Epoch 20/30\n",
            "263/263 [==============================] - 5s 21ms/step - loss: 0.2077 - accuracy: 0.9332 - val_loss: 0.4094 - val_accuracy: 0.8980\n",
            "Epoch 21/30\n",
            "263/263 [==============================] - 5s 20ms/step - loss: 0.2031 - accuracy: 0.9346 - val_loss: 0.4925 - val_accuracy: 0.8807\n",
            "Epoch 22/30\n",
            "263/263 [==============================] - 5s 21ms/step - loss: 0.1873 - accuracy: 0.9378 - val_loss: 0.4259 - val_accuracy: 0.9086\n",
            "Epoch 23/30\n",
            "263/263 [==============================] - 5s 21ms/step - loss: 0.1909 - accuracy: 0.9373 - val_loss: 0.4981 - val_accuracy: 0.8889\n",
            "Epoch 24/30\n",
            "263/263 [==============================] - 5s 21ms/step - loss: 0.1829 - accuracy: 0.9399 - val_loss: 0.4227 - val_accuracy: 0.9061\n",
            "Epoch 25/30\n",
            "263/263 [==============================] - 5s 20ms/step - loss: 0.1741 - accuracy: 0.9425 - val_loss: 0.5116 - val_accuracy: 0.8970\n",
            "Epoch 26/30\n",
            "263/263 [==============================] - 5s 20ms/step - loss: 0.1695 - accuracy: 0.9446 - val_loss: 0.4334 - val_accuracy: 0.9049\n",
            "Epoch 27/30\n",
            "263/263 [==============================] - 5s 21ms/step - loss: 0.1591 - accuracy: 0.9467 - val_loss: 0.4683 - val_accuracy: 0.9035\n",
            "Epoch 28/30\n",
            "263/263 [==============================] - 5s 21ms/step - loss: 0.1607 - accuracy: 0.9475 - val_loss: 0.4015 - val_accuracy: 0.9014\n",
            "Epoch 29/30\n",
            "263/263 [==============================] - 5s 21ms/step - loss: 0.1563 - accuracy: 0.9469 - val_loss: 0.4292 - val_accuracy: 0.9114\n",
            "Epoch 30/30\n",
            "263/263 [==============================] - 5s 21ms/step - loss: 0.1523 - accuracy: 0.9499 - val_loss: 0.4691 - val_accuracy: 0.9052\n"
          ]
        }
      ]
    },
    {
      "cell_type": "markdown",
      "metadata": {
        "id": "0_f1EXmTe2TK"
      },
      "source": [
        "### **Plotting the validation and training accuracies**"
      ]
    },
    {
      "cell_type": "code",
      "metadata": {
        "colab": {
          "base_uri": "https://localhost:8080/",
          "height": 497
        },
        "id": "01ig6BrF1KVy",
        "outputId": "125318c9-6a07-45cc-b145-31ec9cde38bf"
      },
      "source": [
        "# Plot the accuracies\n",
        "\n",
        "dict_hist = history_model_2.history\n",
        "list_ep = [i for i in range(1,31)]\n",
        "\n",
        "plt.figure(figsize = (8,8))\n",
        "plt.plot(list_ep,dict_hist['accuracy'],ls = '--', label = 'accuracy')\n",
        "plt.plot(list_ep,dict_hist['val_accuracy'],ls = '--', label = 'val_accuracy')\n",
        "plt.ylabel('Accuracy')\n",
        "plt.xlabel('Epochs')\n",
        "plt.legend()\n",
        "plt.show()"
      ],
      "execution_count": null,
      "outputs": [
        {
          "output_type": "display_data",
          "data": {
            "image/png": "[encoded data removed]",
            "text/plain": [
              "<Figure size 576x576 with 1 Axes>"
            ]
          },
          "metadata": {
            "needs_background": "light"
          }
        }
      ]
    },
    {
      "cell_type": "markdown",
      "metadata": {
        "id": "VPW1LlD61RDn"
      },
      "source": [
        "**Observations:**\n",
        "- It looks like we have corrected the distance between the validation and training accuracies.\n",
        "- It looks like adding a few more layers as well as a dropout layer reduced overfitting significantly.\n",
        "- The model still may be slightly overfit, but with validation accuracy sitting around **88%** and training accuracy at **91%** this looks to be close enough for what we are aiming for."
      ]
    },
    {
      "cell_type": "markdown",
      "metadata": {
        "id": "8kuXx9Bvu00f"
      },
      "source": [
        "## **Predictions on the test data**\n",
        "\n",
        "- Make predictions on the test set using the second model\n",
        "- Print the obtained results using the classification report and the confusion matrix\n",
        "- Final observations from the obtained results"
      ]
    },
    {
      "cell_type": "code",
      "metadata": {
        "id": "xbWMEtTj5Ad0"
      },
      "source": [
        "# Make a prediction on the test data using this second model \n",
        "test_pred = model_2.predict(X_test)\n",
        "\n",
        "test_pred = np.argmax(test_pred, axis=-1)"
      ],
      "execution_count": null,
      "outputs": []
    },
    {
      "cell_type": "markdown",
      "metadata": {
        "id": "i3li8Ib08yts"
      },
      "source": [
        "**Note:** Earlier, we noticed that each entry of the test data is a one-hot encoded vector but to print the classification report and confusion matrix, we must convert each entry of y_test to a single label."
      ]
    },
    {
      "cell_type": "code",
      "metadata": {
        "id": "NByu7uAQ8x9P"
      },
      "source": [
        "# Converting each entry to single label from a one-hot encoded vector\n",
        "y_test = np.argmax(y_test, axis=-1)"
      ],
      "execution_count": null,
      "outputs": []
    },
    {
      "cell_type": "markdown",
      "metadata": {
        "id": "yHDUEma0e2TM"
      },
      "source": [
        "#### **Final observations on the performance of the model on the test data**"
      ]
    },
    {
      "cell_type": "code",
      "metadata": {
        "colab": {
          "base_uri": "https://localhost:8080/",
          "height": 623
        },
        "id": "xRddeJ-3EHT1",
        "outputId": "99e929a1-a798-40eb-9fc2-47ee16ae7af4"
      },
      "source": [
        "# Import required functions\n",
        "from sklearn.metrics import classification_report\n",
        "from sklearn.metrics import confusion_matrix\n",
        "\n",
        "# Print the classification report\n",
        "print(classification_report(y_test, test_pred))\n",
        "\n",
        "# Plot the heatmap using confusion matrix\n",
        "cm = confusion_matrix(y_test, test_pred)\n",
        "plt.figure(figsize=(8,5))\n",
        "sns.heatmap(cm, annot=True,  fmt='.0f')\n",
        "plt.ylabel('Actual')\n",
        "plt.xlabel('Predicted')\n",
        "plt.show()"
      ],
      "execution_count": null,
      "outputs": [
        {
          "output_type": "stream",
          "name": "stdout",
          "text": [
            "              precision    recall  f1-score   support\n",
            "\n",
            "           0       0.94      0.93      0.93      1814\n",
            "           1       0.92      0.90      0.91      1828\n",
            "           2       0.95      0.90      0.92      1803\n",
            "           3       0.92      0.87      0.90      1719\n",
            "           4       0.92      0.93      0.93      1812\n",
            "           5       0.91      0.90      0.91      1768\n",
            "           6       0.87      0.91      0.89      1832\n",
            "           7       0.88      0.96      0.92      1808\n",
            "           8       0.90      0.90      0.90      1812\n",
            "           9       0.89      0.91      0.90      1804\n",
            "\n",
            "    accuracy                           0.91     18000\n",
            "   macro avg       0.91      0.91      0.91     18000\n",
            "weighted avg       0.91      0.91      0.91     18000\n",
            "\n"
          ]
        },
        {
          "output_type": "display_data",
          "data": {
            "image/png": "[encoded data removed]",
            "text/plain": [
              "<Figure size 576x360 with 2 Axes>"
            ]
          },
          "metadata": {
            "needs_background": "light"
          }
        }
      ]
    },
    {
      "cell_type": "markdown",
      "metadata": {
        "id": "DjErl4GA2u9s"
      },
      "source": [
        "#### **Observations:**\n",
        "- According the the classification report, we are achieving recall values **higher than 87%** for all classes.\n",
        "- We are also seeing an overall accuracy of **91%**.\n",
        "- In the confusion matrix, we see that we are able to acheive an accurate reading an overwhelming majority of the time.\n",
        "- The second model seems to have performed very well against the test data."
      ]
    }
  ]
}